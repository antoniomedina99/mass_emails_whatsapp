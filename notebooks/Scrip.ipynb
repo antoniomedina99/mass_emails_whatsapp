{
 "cells": [
  {
   "cell_type": "markdown",
   "metadata": {},
   "source": [
    "# paso 1 Importar libreías "
   ]
  },
  {
   "cell_type": "code",
   "execution_count": 1,
   "metadata": {},
   "outputs": [],
   "source": [
    "import pyautogui as pg\n",
    "'''\n",
    "proporciona funciones para controlar la interacción del ratón y el teclado de una computadora de forma programática.\n",
    "Esta librería es útil para automatizar tareas que normalmente se realizan manualmente, como hacer clic en botones,\n",
    " mover el cursor, escribir texto, entre otros.\n",
    "'''\n",
    "import webbrowser as web # ayuda a abrir la url de whatsap\n",
    "import time # set time\n",
    "import pandas as pd"
   ]
  },
  {
   "cell_type": "markdown",
   "metadata": {},
   "source": [
    "# paso dos importar datos"
   ]
  },
  {
   "cell_type": "code",
   "execution_count": 2,
   "metadata": {},
   "outputs": [
    {
     "name": "stdout",
     "output_type": "stream",
     "text": [
      "The shape of the is: (4358, 13)\n"
     ]
    },
    {
     "data": {
      "text/html": [
       "<div>\n",
       "<style scoped>\n",
       "    .dataframe tbody tr th:only-of-type {\n",
       "        vertical-align: middle;\n",
       "    }\n",
       "\n",
       "    .dataframe tbody tr th {\n",
       "        vertical-align: top;\n",
       "    }\n",
       "\n",
       "    .dataframe thead th {\n",
       "        text-align: right;\n",
       "    }\n",
       "</style>\n",
       "<table border=\"1\" class=\"dataframe\">\n",
       "  <thead>\n",
       "    <tr style=\"text-align: right;\">\n",
       "      <th></th>\n",
       "      <th>Creado</th>\n",
       "      <th>Nombre</th>\n",
       "      <th>Correo electrónico</th>\n",
       "      <th>celular</th>\n",
       "      <th>mensaje</th>\n",
       "      <th>Teléfono</th>\n",
       "      <th>Origen</th>\n",
       "      <th>Formulario</th>\n",
       "      <th>Canal</th>\n",
       "      <th>Fase</th>\n",
       "      <th>Propietario</th>\n",
       "      <th>Columna1</th>\n",
       "      <th>Pais contacto</th>\n",
       "    </tr>\n",
       "  </thead>\n",
       "  <tbody>\n",
       "    <tr>\n",
       "      <th>0</th>\n",
       "      <td>NaT</td>\n",
       "      <td>antonio</td>\n",
       "      <td>NaN</td>\n",
       "      <td>573134299363</td>\n",
       "      <td>NaN</td>\n",
       "      <td>NaN</td>\n",
       "      <td>NaN</td>\n",
       "      <td>NaN</td>\n",
       "      <td>NaN</td>\n",
       "      <td>NaN</td>\n",
       "      <td>NaN</td>\n",
       "      <td>NaN</td>\n",
       "      <td>NaN</td>\n",
       "    </tr>\n",
       "    <tr>\n",
       "      <th>1</th>\n",
       "      <td>NaT</td>\n",
       "      <td>antonio</td>\n",
       "      <td>NaN</td>\n",
       "      <td>573134299363</td>\n",
       "      <td>NaN</td>\n",
       "      <td>NaN</td>\n",
       "      <td>NaN</td>\n",
       "      <td>NaN</td>\n",
       "      <td>NaN</td>\n",
       "      <td>NaN</td>\n",
       "      <td>NaN</td>\n",
       "      <td>NaN</td>\n",
       "      <td>NaN</td>\n",
       "    </tr>\n",
       "    <tr>\n",
       "      <th>2</th>\n",
       "      <td>NaT</td>\n",
       "      <td>antonio</td>\n",
       "      <td>NaN</td>\n",
       "      <td>573134299363</td>\n",
       "      <td>NaN</td>\n",
       "      <td>NaN</td>\n",
       "      <td>NaN</td>\n",
       "      <td>NaN</td>\n",
       "      <td>NaN</td>\n",
       "      <td>NaN</td>\n",
       "      <td>NaN</td>\n",
       "      <td>NaN</td>\n",
       "      <td>NaN</td>\n",
       "    </tr>\n",
       "  </tbody>\n",
       "</table>\n",
       "</div>"
      ],
      "text/plain": [
       "  Creado   Nombre Correo electrónico       celular mensaje Teléfono Origen  \\\n",
       "0    NaT  antonio                NaN  573134299363     NaN      NaN    NaN   \n",
       "1    NaT  antonio                NaN  573134299363     NaN      NaN    NaN   \n",
       "2    NaT  antonio                NaN  573134299363     NaN      NaN    NaN   \n",
       "\n",
       "  Formulario Canal Fase Propietario  Columna1 Pais contacto  \n",
       "0        NaN   NaN  NaN         NaN       NaN           NaN  \n",
       "1        NaN   NaN  NaN         NaN       NaN           NaN  \n",
       "2        NaN   NaN  NaN         NaN       NaN           NaN  "
      ]
     },
     "execution_count": 2,
     "metadata": {},
     "output_type": "execute_result"
    }
   ],
   "source": [
    "data = pd.read_excel('../data_base/CLIEN POTENCIALES FACEK 8 FEBRERO.xlsx')\n",
    "print(f'The shape of the is: {data.shape}')\n",
    "data.head(3)"
   ]
  },
  {
   "cell_type": "code",
   "execution_count": 3,
   "metadata": {},
   "outputs": [],
   "source": [
    "for i in range(len(data)):\n",
    "    celular = data.loc[i,'celular'] # Convertir a string para que se añada al mensaje\n",
    "    nombre = data.loc[i,'Nombre']\n",
    "    \n",
    "    # Crear mensaje personalizado\n",
    "\n",
    "\n",
    "    # mensaje = \"¡Ayúdanos a mejorar y participa en nuestra encuesta.\" // + \n",
    "    #     \"¡Ayúdanos a mejorar y participa en nuestra encuesta.\"\n",
    "\n",
    "    mensaje = f'''\n",
    "\n",
    "    ¡Ayúdanos a mejorar y participa en nuestra encuesta. \n",
    "                                                                   Tu opinión cuenta.\n",
    "                                                    Buen día\n",
    "    {nombre} \n",
    "    https://forms.gle/js4tNwvAf4oZ5cDM8\n",
    "    \n",
    "                    El propósito de esta encuesta es mejorar el servicio de la empresa EFPE.\n",
    "                                                      Página Web :\n",
    "    https://efpe.com.co/\n",
    "       \n",
    "    '''\n",
    "   \n",
    "    \n",
    "    # Abrir una nueva pestaña para entrar a WhatsApp Web\n",
    "    # Opción 1: Si te abre WhastApp Web directamente en Google Chrome\n",
    "    web.open(\"https://web.whatsapp.com/send?phone=\" + celular + \"&text=\" + mensaje)\n",
    "    \n",
    "    # # Opción 2: Si te abre WhastApp Web en Microsoft Edge, especificar que lo abra en Chrome\n",
    "    # chrome_path = 'C:/Program Files (x86)/Google/Chrome/Application/chrome.exe %s'\n",
    "    # web.get(chrome_path).open(\"https://web.whatsapp.com/send?phone=\" + celular + \"&text=\" + mensaje)\n",
    "    \n",
    "    time.sleep(8)           # Esperar 8 segundos a que cargue\n",
    "    pg.click(1230,964)      # Hacer click en la caja de texto\n",
    "    time.sleep(2)           # Esperar 2 segundos \n",
    "    pg.press('enter')       # Enviar mensaje \n",
    "    time.sleep(3)           # Esperar 3 segundos a que se envíe el mensaje\n",
    "    pg.hotkey('ctrl', 'w')  # Cerrar la pestaña\n",
    "    time.sleep(2)\n"
   ]
  },
  {
   "cell_type": "code",
   "execution_count": null,
   "metadata": {},
   "outputs": [
    {
     "data": {
      "text/plain": [
       "'\\n\\n    ¡Ayúdanos a mejorar y participa en nuestra encuesta.\\n\\n                                                                                                                                                                                                                                                                                                                                                                                                                                                Tu opinión cuenta.\\n\\n                                                                                                                                                                                                                                                                                                                                                                                                                                                                                                                                                                                                                                  Buen día\\n\\n    antonio\\n\\n    https://forms.gle/js4tNwvAf4oZ5cDM8\\n\\n    El propósito de esta encuesta es mejorar el servicio de la empresa EFPE. \\n\\n    Página Web :                                           https://efpe.com.co/\\n       \\n    '"
      ]
     },
     "execution_count": 2,
     "metadata": {},
     "output_type": "execute_result"
    }
   ],
   "source": [
    "mensaje"
   ]
  }
 ],
 "metadata": {
  "kernelspec": {
   "display_name": "env-mass-whatsapp",
   "language": "python",
   "name": "python3"
  },
  "language_info": {
   "codemirror_mode": {
    "name": "ipython",
    "version": 3
   },
   "file_extension": ".py",
   "mimetype": "text/x-python",
   "name": "python",
   "nbconvert_exporter": "python",
   "pygments_lexer": "ipython3",
   "version": "3.10.9"
  },
  "orig_nbformat": 4
 },
 "nbformat": 4,
 "nbformat_minor": 2
}
