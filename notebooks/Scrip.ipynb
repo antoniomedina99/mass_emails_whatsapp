{
 "cells": [
  {
   "cell_type": "markdown",
   "metadata": {},
   "source": [
    "# paso 1 Importar libreías "
   ]
  },
  {
   "cell_type": "code",
   "execution_count": 5,
   "metadata": {},
   "outputs": [
    {
     "ename": "ModuleNotFoundError",
     "evalue": "No module named 'pyautogui'",
     "output_type": "error",
     "traceback": [
      "\u001b[1;31m---------------------------------------------------------------------------\u001b[0m",
      "\u001b[1;31mModuleNotFoundError\u001b[0m                       Traceback (most recent call last)",
      "Cell \u001b[1;32mIn[5], line 1\u001b[0m\n\u001b[1;32m----> 1\u001b[0m \u001b[39mimport\u001b[39;00m \u001b[39mpyautogui\u001b[39;00m \u001b[39mas\u001b[39;00m \u001b[39mpg\u001b[39;00m\n\u001b[0;32m      2\u001b[0m \u001b[39m'''\u001b[39;00m\n\u001b[0;32m      3\u001b[0m \u001b[39mproporciona funciones para controlar la interacción del ratón y el teclado de una computadora de forma programática.\u001b[39;00m\n\u001b[0;32m      4\u001b[0m \u001b[39mEsta librería es útil para automatizar tareas que normalmente se realizan manualmente, como hacer clic en botones,\u001b[39;00m\n\u001b[0;32m      5\u001b[0m \u001b[39m mover el cursor, escribir texto, entre otros.\u001b[39;00m\n\u001b[0;32m      6\u001b[0m \u001b[39m'''\u001b[39;00m\n\u001b[0;32m      7\u001b[0m \u001b[39mimport\u001b[39;00m \u001b[39mwebbrowser\u001b[39;00m \u001b[39mas\u001b[39;00m \u001b[39mweb\u001b[39;00m \u001b[39m# ayuda a abrir la url de whatsap\u001b[39;00m\n",
      "\u001b[1;31mModuleNotFoundError\u001b[0m: No module named 'pyautogui'"
     ]
    }
   ],
   "source": [
    "import pyautogui as pg\n",
    "'''\n",
    "proporciona funciones para controlar la interacción del ratón y el teclado de una computadora de forma programática.\n",
    "Esta librería es útil para automatizar tareas que normalmente se realizan manualmente, como hacer clic en botones,\n",
    " mover el cursor, escribir texto, entre otros.\n",
    "'''\n",
    "import webbrowser as web # ayuda a abrir la url de whatsap\n",
    "import time # set time\n",
    "import pandas as pd"
   ]
  },
  {
   "cell_type": "markdown",
   "metadata": {},
   "source": [
    "# paso dos importar datos"
   ]
  },
  {
   "cell_type": "code",
   "execution_count": 2,
   "metadata": {},
   "outputs": [
    {
     "ename": "NameError",
     "evalue": "name 'pd' is not defined",
     "output_type": "error",
     "traceback": [
      "\u001b[1;31m---------------------------------------------------------------------------\u001b[0m",
      "\u001b[1;31mNameError\u001b[0m                                 Traceback (most recent call last)",
      "Cell \u001b[1;32mIn[2], line 1\u001b[0m\n\u001b[1;32m----> 1\u001b[0m data \u001b[39m=\u001b[39m pd\u001b[39m.\u001b[39mread_excel(\u001b[39m'\u001b[39m\u001b[39m../data_base/CLIEN POTENCIALES FACEK 8 FEBRERO.xlsx\u001b[39m\u001b[39m'\u001b[39m)\n\u001b[0;32m      2\u001b[0m \u001b[39mprint\u001b[39m(\u001b[39mf\u001b[39m\u001b[39m'\u001b[39m\u001b[39mThe shape of the is: \u001b[39m\u001b[39m{\u001b[39;00mdata\u001b[39m.\u001b[39mshape\u001b[39m}\u001b[39;00m\u001b[39m'\u001b[39m)\n\u001b[0;32m      3\u001b[0m data\u001b[39m.\u001b[39mhead(\u001b[39m3\u001b[39m)\n",
      "\u001b[1;31mNameError\u001b[0m: name 'pd' is not defined"
     ]
    }
   ],
   "source": [
    "data = pd.read_excel('../data_base/CLIEN POTENCIALES FACEK 8 FEBRERO.xlsx')\n",
    "print(f'The shape of the is: {data.shape}')\n",
    "data.head(3)"
   ]
  },
  {
   "cell_type": "code",
   "execution_count": null,
   "metadata": {},
   "outputs": [],
   "source": [
    "for i in range(len(data)):\n",
    "    celular = data.loc[i,'celular'] # Convertir a string para que se añada al mensaje\n",
    "    nombre = data.loc[i,'Nombre']\n",
    "    \n",
    "    # Crear mensaje personalizado\n",
    "\n",
    "\n",
    "    # mensaje = \"¡Ayúdanos a mejorar y participa en nuestra encuesta.\" // + \n",
    "    #     \"¡Ayúdanos a mejorar y participa en nuestra encuesta.\"\n",
    "\n",
    "    mensaje = f'''\n",
    "\n",
    "    ¡Ayúdanos a mejorar y participa en nuestra encuesta. \n",
    "                                                                   Tu opinión cuenta.\n",
    "                                                    Buen día\n",
    "    {nombre} \n",
    "    https://forms.gle/js4tNwvAf4oZ5cDM8\n",
    "    \n",
    "                    El propósito de esta encuesta es mejorar el servicio de la empresa EFPE.\n",
    "                                                      Página Web :\n",
    "    https://efpe.com.co/\n",
    "       \n",
    "    '''\n",
    "   \n",
    "    \n",
    "    # Abrir una nueva pestaña para entrar a WhatsApp Web\n",
    "    # Opción 1: Si te abre WhastApp Web directamente en Google Chrome\n",
    "    web.open(\"https://web.whatsapp.com/send?phone=\" + celular + \"&text=\" + mensaje)\n",
    "    \n",
    "    # # Opción 2: Si te abre WhastApp Web en Microsoft Edge, especificar que lo abra en Chrome\n",
    "    # chrome_path = 'C:/Program Files (x86)/Google/Chrome/Application/chrome.exe %s'\n",
    "    # web.get(chrome_path).open(\"https://web.whatsapp.com/send?phone=\" + celular + \"&text=\" + mensaje)\n",
    "    \n",
    "    time.sleep(8)           # Esperar 8 segundos a que cargue\n",
    "    pg.click(1230,964)      # Hacer click en la caja de texto\n",
    "    time.sleep(2)           # Esperar 2 segundos \n",
    "    pg.press('enter')       # Enviar mensaje \n",
    "    time.sleep(3)           # Esperar 3 segundos a que se envíe el mensaje\n",
    "    pg.hotkey('ctrl', 'w')  # Cerrar la pestaña\n",
    "    time.sleep(2)\n"
   ]
  },
  {
   "cell_type": "code",
   "execution_count": null,
   "metadata": {},
   "outputs": [
    {
     "data": {
      "text/plain": [
       "'\\n\\n    ¡Ayúdanos a mejorar y participa en nuestra encuesta.\\n\\n                                                                                                                                                                                                                                                                                                                                                                                                                                                Tu opinión cuenta.\\n\\n                                                                                                                                                                                                                                                                                                                                                                                                                                                                                                                                                                                                                                  Buen día\\n\\n    antonio\\n\\n    https://forms.gle/js4tNwvAf4oZ5cDM8\\n\\n    El propósito de esta encuesta es mejorar el servicio de la empresa EFPE. \\n\\n    Página Web :                                           https://efpe.com.co/\\n       \\n    '"
      ]
     },
     "execution_count": 2,
     "metadata": {},
     "output_type": "execute_result"
    }
   ],
   "source": [
    "mensaje"
   ]
  }
 ],
 "metadata": {
  "kernelspec": {
   "display_name": "env-mass-whatsapp",
   "language": "python",
   "name": "python3"
  },
  "language_info": {
   "codemirror_mode": {
    "name": "ipython",
    "version": 3
   },
   "file_extension": ".py",
   "mimetype": "text/x-python",
   "name": "python",
   "nbconvert_exporter": "python",
   "pygments_lexer": "ipython3",
   "version": "3.10.9"
  },
  "orig_nbformat": 4
 },
 "nbformat": 4,
 "nbformat_minor": 2
}
