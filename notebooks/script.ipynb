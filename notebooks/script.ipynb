{
 "cells": [
  {
   "cell_type": "markdown",
   "metadata": {},
   "source": [
    "# Importar librerías "
   ]
  },
  {
   "cell_type": "code",
   "execution_count": 28,
   "metadata": {},
   "outputs": [],
   "source": [
    "import pyautogui as pg\n",
    "'''\n",
    "proporciona funciones para controlar la interacción del ratón y el teclado de una computadora de forma programática.\n",
    "Esta librería es útil para automatizar tareas que normalmente se realizan manualmente, como hacer clic en botones,\n",
    " mover el cursor, escribir texto, entre otros.\n",
    "'''\n",
    "import webbrowser as web # ayuda a abrir la url de whatsap\n",
    "import time # set time\n",
    "import pandas as pd"
   ]
  },
  {
   "cell_type": "code",
   "execution_count": 29,
   "metadata": {},
   "outputs": [
    {
     "name": "stdout",
     "output_type": "stream",
     "text": [
      "The shape of the is: (4505, 13)\n"
     ]
    }
   ],
   "source": [
    "# cargar base de datos \n",
    "data = pd.read_excel('../data_base/CLIEN POTENCIALES FACEK 8 FEBRERO.xlsx')\n",
    "data.head(3)\n",
    "print(f'The shape of the is: {data.shape}')"
   ]
  },
  {
   "cell_type": "code",
   "execution_count": 30,
   "metadata": {},
   "outputs": [
    {
     "ename": "KeyboardInterrupt",
     "evalue": "",
     "output_type": "error",
     "traceback": [
      "\u001b[1;31m---------------------------------------------------------------------------\u001b[0m",
      "\u001b[1;31mKeyboardInterrupt\u001b[0m                         Traceback (most recent call last)",
      "Cell \u001b[1;32mIn[30], line 42\u001b[0m\n\u001b[0;32m     39\u001b[0m         pg\u001b[39m.\u001b[39mpress(\u001b[39m'\u001b[39m\u001b[39menter\u001b[39m\u001b[39m'\u001b[39m)\n\u001b[0;32m     40\u001b[0m         data_copia\u001b[39m.\u001b[39mat[idx, \u001b[39m'\u001b[39m\u001b[39menviado\u001b[39m\u001b[39m'\u001b[39m] \u001b[39m=\u001b[39m \u001b[39mTrue\u001b[39;00m\n\u001b[1;32m---> 42\u001b[0m         time\u001b[39m.\u001b[39;49msleep(\u001b[39m4\u001b[39;49m)\n\u001b[0;32m     43\u001b[0m         pg\u001b[39m.\u001b[39mhotkey(\u001b[39m'\u001b[39m\u001b[39mctrl\u001b[39m\u001b[39m'\u001b[39m, \u001b[39m'\u001b[39m\u001b[39mw\u001b[39m\u001b[39m'\u001b[39m)\n\u001b[0;32m     45\u001b[0m \u001b[39m# Guardar confirmación de mensajes enviados\u001b[39;00m\n",
      "\u001b[1;31mKeyboardInterrupt\u001b[0m: "
     ]
    }
   ],
   "source": [
    "# Enfoque 1: Utilizando el método astype()\n",
    "data['celular'] = data['celular'].astype(str)\n",
    "\n",
    "# Crear una copia del DataFrame\n",
    "data_copia = data.copy()\n",
    "\n",
    "# Agregar una nueva columna \"enviado\" con valor inicial False en la copia del DataFrame\n",
    "data_copia['enviado'] = False\n",
    "\n",
    "# Suponiendo que ya tienes la variable 'data' que contiene la información de la hoja de Excel\n",
    "data_dict = data.to_dict('list')\n",
    "\n",
    "celulares = data_dict['celular']\n",
    "mensaje = data_dict['mensaje']\n",
    "\n",
    "# Asegúrate de que los valores de 'celular' y 'mensaje' tengan la misma longitud\n",
    "if len(celulares) != len(mensaje):\n",
    "    print(\"La cantidad de números de celular y mensajes no coincide.\")\n",
    "else:\n",
    "    # Combina los números de celular y mensajes en una lista de tuplas\n",
    "    combo = list(zip(celulares, mensaje))\n",
    "\n",
    "    # Establecer la variable 'first' como True antes del bucle\n",
    "    first = True\n",
    "\n",
    "    for idx, (numero, mensaje) in enumerate(combo):\n",
    "        time.sleep(6)\n",
    "        web.open(\"https://web.whatsapp.com/send?phone=\" + numero + \"&text=\" + mensaje)\n",
    "\n",
    "        if first:\n",
    "            time.sleep(8)\n",
    "            first = False\n",
    "\n",
    "        # Esperar hasta que se haya abierto la ventana de WhatsApp Web\n",
    "        while not pg.pixelMatchesColor(200, 200, (255, 255, 255)):\n",
    "            time.sleep(1)\n",
    "\n",
    "        # Enviar el mensaje y marcar como enviado en la copia del DataFrame\n",
    "        pg.press('enter')\n",
    "        data_copia.at[idx, 'enviado'] = True\n",
    "\n",
    "        time.sleep(4)\n",
    "        pg.hotkey('ctrl', 'w')\n",
    "\n",
    "# Guardar confirmación de mensajes enviados\n",
    "data_copia.to_excel('../data_base/mensajes enviados.xlsx', index=False)\n",
    "print(\"Mensajes enviados y registro actualizado en la copia del DataFrame.\")\n",
    "#show data\n",
    "data_copia.head(5)\n"
   ]
  },
  {
   "cell_type": "code",
   "execution_count": null,
   "metadata": {},
   "outputs": [],
   "source": []
  }
 ],
 "metadata": {
  "kernelspec": {
   "display_name": "masswhatsap",
   "language": "python",
   "name": "python3"
  },
  "language_info": {
   "codemirror_mode": {
    "name": "ipython",
    "version": 3
   },
   "file_extension": ".py",
   "mimetype": "text/x-python",
   "name": "python",
   "nbconvert_exporter": "python",
   "pygments_lexer": "ipython3",
   "version": "3.10.9"
  },
  "orig_nbformat": 4
 },
 "nbformat": 4,
 "nbformat_minor": 2
}
