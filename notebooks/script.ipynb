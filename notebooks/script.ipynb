{
 "cells": [
  {
   "cell_type": "markdown",
   "metadata": {},
   "source": [
    "# Importar librerías "
   ]
  },
  {
   "cell_type": "code",
   "execution_count": 4,
   "metadata": {},
   "outputs": [],
   "source": [
    "import pyautogui as pg\n",
    "'''\n",
    "proporciona funciones para controlar la interacción del ratón y el teclado de una computadora de forma programática.\n",
    "Esta librería es útil para automatizar tareas que normalmente se realizan manualmente, como hacer clic en botones,\n",
    " mover el cursor, escribir texto, entre otros.\n",
    "'''\n",
    "import webbrowser as web # ayuda a abrir la url de whatsap\n",
    "import time # set time\n",
    "import pandas as pd"
   ]
  },
  {
   "cell_type": "code",
   "execution_count": 5,
   "metadata": {},
   "outputs": [
    {
     "data": {
      "text/html": [
       "<div>\n",
       "<style scoped>\n",
       "    .dataframe tbody tr th:only-of-type {\n",
       "        vertical-align: middle;\n",
       "    }\n",
       "\n",
       "    .dataframe tbody tr th {\n",
       "        vertical-align: top;\n",
       "    }\n",
       "\n",
       "    .dataframe thead th {\n",
       "        text-align: right;\n",
       "    }\n",
       "</style>\n",
       "<table border=\"1\" class=\"dataframe\">\n",
       "  <thead>\n",
       "    <tr style=\"text-align: right;\">\n",
       "      <th></th>\n",
       "      <th>n</th>\n",
       "      <th>celular</th>\n",
       "      <th>mensaje</th>\n",
       "    </tr>\n",
       "  </thead>\n",
       "  <tbody>\n",
       "    <tr>\n",
       "      <th>0</th>\n",
       "      <td>1</td>\n",
       "      <td>573123793260</td>\n",
       "      <td>Encuesta EFPE Colombia\\n\\n¡Gracias por tu cola...</td>\n",
       "    </tr>\n",
       "    <tr>\n",
       "      <th>1</th>\n",
       "      <td>2</td>\n",
       "      <td>573208796168</td>\n",
       "      <td>Encuesta EFPE Colombia\\n\\n¡Gracias por tu cola...</td>\n",
       "    </tr>\n",
       "    <tr>\n",
       "      <th>2</th>\n",
       "      <td>3</td>\n",
       "      <td>57112302180</td>\n",
       "      <td>Encuesta EFPE Colombia\\n\\n¡Gracias por tu cola...</td>\n",
       "    </tr>\n",
       "  </tbody>\n",
       "</table>\n",
       "</div>"
      ],
      "text/plain": [
       "   n       celular                                            mensaje\n",
       "0  1  573123793260  Encuesta EFPE Colombia\\n\\n¡Gracias por tu cola...\n",
       "1  2  573208796168  Encuesta EFPE Colombia\\n\\n¡Gracias por tu cola...\n",
       "2  3   57112302180  Encuesta EFPE Colombia\\n\\n¡Gracias por tu cola..."
      ]
     },
     "execution_count": 5,
     "metadata": {},
     "output_type": "execute_result"
    }
   ],
   "source": [
    "# cargar base de datos \n",
    "data = pd.read_excel('../data_base/prueba.xlsx')\n",
    "data.head(3)"
   ]
  },
  {
   "cell_type": "code",
   "execution_count": 6,
   "metadata": {},
   "outputs": [
    {
     "name": "stdout",
     "output_type": "stream",
     "text": [
      "Mensajes enviados y registro actualizado en la copia del DataFrame.\n"
     ]
    },
    {
     "data": {
      "text/html": [
       "<div>\n",
       "<style scoped>\n",
       "    .dataframe tbody tr th:only-of-type {\n",
       "        vertical-align: middle;\n",
       "    }\n",
       "\n",
       "    .dataframe tbody tr th {\n",
       "        vertical-align: top;\n",
       "    }\n",
       "\n",
       "    .dataframe thead th {\n",
       "        text-align: right;\n",
       "    }\n",
       "</style>\n",
       "<table border=\"1\" class=\"dataframe\">\n",
       "  <thead>\n",
       "    <tr style=\"text-align: right;\">\n",
       "      <th></th>\n",
       "      <th>n</th>\n",
       "      <th>celular</th>\n",
       "      <th>mensaje</th>\n",
       "      <th>enviado</th>\n",
       "    </tr>\n",
       "  </thead>\n",
       "  <tbody>\n",
       "    <tr>\n",
       "      <th>0</th>\n",
       "      <td>1</td>\n",
       "      <td>573123793260</td>\n",
       "      <td>Encuesta EFPE Colombia\\n\\n¡Gracias por tu cola...</td>\n",
       "      <td>True</td>\n",
       "    </tr>\n",
       "    <tr>\n",
       "      <th>1</th>\n",
       "      <td>2</td>\n",
       "      <td>573208796168</td>\n",
       "      <td>Encuesta EFPE Colombia\\n\\n¡Gracias por tu cola...</td>\n",
       "      <td>True</td>\n",
       "    </tr>\n",
       "    <tr>\n",
       "      <th>2</th>\n",
       "      <td>3</td>\n",
       "      <td>57112302180</td>\n",
       "      <td>Encuesta EFPE Colombia\\n\\n¡Gracias por tu cola...</td>\n",
       "      <td>True</td>\n",
       "    </tr>\n",
       "  </tbody>\n",
       "</table>\n",
       "</div>"
      ],
      "text/plain": [
       "   n       celular                                            mensaje  enviado\n",
       "0  1  573123793260  Encuesta EFPE Colombia\\n\\n¡Gracias por tu cola...     True\n",
       "1  2  573208796168  Encuesta EFPE Colombia\\n\\n¡Gracias por tu cola...     True\n",
       "2  3   57112302180  Encuesta EFPE Colombia\\n\\n¡Gracias por tu cola...     True"
      ]
     },
     "execution_count": 6,
     "metadata": {},
     "output_type": "execute_result"
    }
   ],
   "source": [
    "# Enfoque 1: Utilizando el método astype()\n",
    "data['celular'] = data['celular'].astype(str)\n",
    "\n",
    "# Crear una copia del DataFrame\n",
    "data_copia = data.copy()\n",
    "\n",
    "# Agregar una nueva columna \"enviado\" con valor inicial False en la copia del DataFrame\n",
    "data_copia['enviado'] = False\n",
    "\n",
    "# Suponiendo que ya tienes la variable 'data' que contiene la información de la hoja de Excel\n",
    "data_dict = data.to_dict('list')\n",
    "\n",
    "celulares = data_dict['celular']\n",
    "mensaje = data_dict['mensaje']\n",
    "\n",
    "# Asegúrate de que los valores de 'celular' y 'mensaje' tengan la misma longitud\n",
    "if len(celulares) != len(mensaje):\n",
    "    print(\"La cantidad de números de celular y mensajes no coincide.\")\n",
    "else:\n",
    "    # Combina los números de celular y mensajes en una lista de tuplas\n",
    "    combo = list(zip(celulares, mensaje))\n",
    "\n",
    "    # Establecer la variable 'first' como True antes del bucle\n",
    "    first = True\n",
    "\n",
    "    for idx, (numero, mensaje) in enumerate(combo):\n",
    "        time.sleep(8)\n",
    "        web.open(\"https://web.whatsapp.com/send?phone=\" + numero + \"&text=\" + mensaje)\n",
    "\n",
    "        if first:\n",
    "            time.sleep(8)\n",
    "            first = False\n",
    "\n",
    "        # Esperar hasta que se haya abierto la ventana de WhatsApp Web\n",
    "        while not pg.pixelMatchesColor(200, 200, (255, 255, 255)):\n",
    "            time.sleep(1)\n",
    "\n",
    "        # Enviar el mensaje y marcar como enviado en la copia del DataFrame\n",
    "        pg.press('enter')\n",
    "        data_copia.at[idx, 'enviado'] = True\n",
    "\n",
    "        time.sleep(6)\n",
    "        pg.hotkey('ctrl', 'w')\n",
    "\n",
    "# Guardar confirmación de mensajes enviados\n",
    "data_copia.to_excel('../data_base/mensajes enviados.xlsx', index=False)\n",
    "print(\"Mensajes enviados y registro actualizado en la copia del DataFrame.\")\n",
    "#show data\n",
    "data_copia\n"
   ]
  }
 ],
 "metadata": {
  "kernelspec": {
   "display_name": "masswhatsap",
   "language": "python",
   "name": "python3"
  },
  "language_info": {
   "codemirror_mode": {
    "name": "ipython",
    "version": 3
   },
   "file_extension": ".py",
   "mimetype": "text/x-python",
   "name": "python",
   "nbconvert_exporter": "python",
   "pygments_lexer": "ipython3",
   "version": "3.10.9"
  },
  "orig_nbformat": 4
 },
 "nbformat": 4,
 "nbformat_minor": 2
}
